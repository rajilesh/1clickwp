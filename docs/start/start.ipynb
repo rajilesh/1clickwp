{
  "cells": [
    {
      "cell_type": "markdown",
      "metadata": {
        "id": "view-in-github",
        "colab_type": "text"
      },
      "source": [
        "<a href=\"https://colab.research.google.com/github/rajilesh/1clickwp/blob/master/docs/start/start.ipynb\" target=\"_parent\"><img src=\"https://colab.research.google.com/assets/colab-badge.svg\" alt=\"Open In Colab\"/></a>"
      ]
    },
    {
      "cell_type": "markdown",
      "metadata": {
        "id": "gXXhctqjgXO7"
      },
      "source": [
        "##### Copyright 2022 The Cirq Developers"
      ]
    },
    {
      "cell_type": "code",
      "execution_count": 1,
      "metadata": {
        "cellView": "form",
        "id": "z2RJVa8qgXou"
      },
      "outputs": [],
      "source": [
        "# @title Licensed under the Apache License, Version 2.0 (the \"License\");\n",
        "# you may not use this file except in compliance with the License.\n",
        "# You may obtain a copy of the License at\n",
        "#\n",
        "# https://www.apache.org/licenses/LICENSE-2.0\n",
        "#\n",
        "# Unless required by applicable law or agreed to in writing, software\n",
        "# distributed under the License is distributed on an \"AS IS\" BASIS,\n",
        "# WITHOUT WARRANTIES OR CONDITIONS OF ANY KIND, either express or implied.\n",
        "# See the License for the specific language governing permissions and\n",
        "# limitations under the License."
      ]
    },
    {
      "cell_type": "markdown",
      "metadata": {
        "id": "EQvWLKKRgZR9"
      },
      "source": [
        "# Hello Qubit"
      ]
    },
    {
      "cell_type": "markdown",
      "metadata": {
        "id": "EvZ_JecKga2p"
      },
      "source": [
        "<table class=\"tfo-notebook-buttons\" align=\"left\">\n",
        "  <td>\n",
        "    <a target=\"_blank\" href=\"https://quantumai.google/cirq/start/start\"><img src=\"https://quantumai.google/site-assets/images/buttons/quantumai_logo_1x.png\" />View on QuantumAI</a>\n",
        "  </td>\n",
        "  <td>\n",
        "    <a target=\"_blank\" href=\"https://colab.research.google.com/github/quantumlib/Cirq/blob/main/docs/start/start.ipynb\"><img src=\"https://quantumai.google/site-assets/images/buttons/colab_logo_1x.png\" />Run in Google Colab</a>\n",
        "  </td>\n",
        "  <td>\n",
        "    <a target=\"_blank\" href=\"https://github.com/quantumlib/Cirq/blob/main/docs/start/start.ipynb\"><img src=\"https://quantumai.google/site-assets/images/buttons/github_logo_1x.png\" />View source on GitHub</a>\n",
        "  </td>\n",
        "  <td>\n",
        "    <a href=\"https://storage.googleapis.com/tensorflow_docs/Cirq/docs/start/start.ipynb\"><img src=\"https://quantumai.google/site-assets/images/buttons/download_icon_1x.png\" />Download notebook</a>\n",
        "  </td>\n",
        "</table>"
      ]
    },
    {
      "cell_type": "code",
      "execution_count": 2,
      "metadata": {
        "id": "bd9529db1c0b",
        "outputId": "2f8cae26-bf80-43cb-8b0b-a1dd76cea929",
        "colab": {
          "base_uri": "https://localhost:8080/"
        }
      },
      "outputs": [
        {
          "output_type": "stream",
          "name": "stdout",
          "text": [
            "installing cirq...\n",
            "\u001b[2K   \u001b[90m━━━━━━━━━━━━━━━━━━━━━━━━━━━━━━━━━━━━━━━━\u001b[0m \u001b[32m2.0/2.0 MB\u001b[0m \u001b[31m10.9 MB/s\u001b[0m eta \u001b[36m0:00:00\u001b[0m\n",
            "\u001b[2K   \u001b[90m━━━━━━━━━━━━━━━━━━━━━━━━━━━━━━━━━━━━━━━━\u001b[0m \u001b[32m597.5/597.5 kB\u001b[0m \u001b[31m36.1 MB/s\u001b[0m eta \u001b[36m0:00:00\u001b[0m\n",
            "\u001b[2K   \u001b[90m━━━━━━━━━━━━━━━━━━━━━━━━━━━━━━━━━━━━━━━━\u001b[0m \u001b[32m72.0/72.0 kB\u001b[0m \u001b[31m5.4 MB/s\u001b[0m eta \u001b[36m0:00:00\u001b[0m\n",
            "\u001b[2K   \u001b[90m━━━━━━━━━━━━━━━━━━━━━━━━━━━━━━━━━━━━━━━━\u001b[0m \u001b[32m425.1/425.1 kB\u001b[0m \u001b[31m27.7 MB/s\u001b[0m eta \u001b[36m0:00:00\u001b[0m\n",
            "\u001b[2K   \u001b[90m━━━━━━━━━━━━━━━━━━━━━━━━━━━━━━━━━━━━━━━━\u001b[0m \u001b[32m2.8/2.8 MB\u001b[0m \u001b[31m72.9 MB/s\u001b[0m eta \u001b[36m0:00:00\u001b[0m\n",
            "\u001b[?25hinstalled cirq.\n"
          ]
        }
      ],
      "source": [
        "try:\n",
        "    import cirq\n",
        "except ImportError:\n",
        "    print(\"installing cirq...\")\n",
        "    !pip install --quiet cirq\n",
        "    import cirq\n",
        "\n",
        "    print(\"installed cirq.\")"
      ]
    },
    {
      "cell_type": "code",
      "execution_count": 9,
      "metadata": {
        "id": "n4GQUN8MS7vt",
        "outputId": "fe809262-daf7-4b56-cce5-d7f8291be742",
        "colab": {
          "base_uri": "https://localhost:8080/"
        }
      },
      "outputs": [
        {
          "output_type": "stream",
          "name": "stdout",
          "text": [
            "Circuit:\n",
            "(0, 0): ───X^0.5───M('m')───\n",
            "Results:\n",
            "m=10011101100101010000\n"
          ]
        }
      ],
      "source": [
        "# Pick a qubit.\n",
        "qubit = cirq.GridQubit(0, 0)\n",
        "\n",
        "# Create a circuit that applies a square root of NOT gate, then measures the qubit.\n",
        "circuit = cirq.Circuit(cirq.X(qubit) ** 0.5, cirq.measure(qubit, key='m'))\n",
        "print(\"Circuit:\")\n",
        "print(circuit)\n",
        "\n",
        "# Simulate the circuit several times.\n",
        "simulator = cirq.Simulator()\n",
        "result = simulator.run(circuit, repetitions=20)\n",
        "print(\"Results:\")\n",
        "print(result)"
      ]
    },
    {
      "cell_type": "code",
      "source": [
        "import cirq\n",
        "\n",
        "# Define two qubits\n",
        "q0 = cirq.GridQubit(0, 0)  # for a\n",
        "q1 = cirq.GridQubit(0, 1)  # for b\n",
        "q2 = cirq.GridQubit(0, 2)  # for sum output\n",
        "q3 = cirq.GridQubit(0, 3)  # for carry output\n",
        "\n",
        "# Create circuit\n",
        "circuit = cirq.Circuit()\n",
        "\n",
        "# Initialize qubits q0 and q1 depending on a and b (classical bits)\n",
        "a = 1  # example input bit a\n",
        "b = 0  # example input bit b\n",
        "\n",
        "if a == 1:\n",
        "    circuit.append(cirq.X(q0))\n",
        "if b == 1:\n",
        "    circuit.append(cirq.X(q1))\n",
        "\n",
        "# Half Adder logic: sum = a XOR b, carry = a AND b\n",
        "# sum = q2, carry = q3\n",
        "\n",
        "# sum = a XOR b\n",
        "circuit.append(cirq.CNOT(q0, q2))\n",
        "circuit.append(cirq.CNOT(q1, q2))\n",
        "\n",
        "# carry = a AND b\n",
        "circuit.append(cirq.TOFFOLI(q0, q1, q3))\n",
        "\n",
        "# Measure sum and carry\n",
        "circuit.append(cirq.measure(q2, key='sum'))\n",
        "circuit.append(cirq.measure(q3, key='carry'))\n",
        "\n",
        "print(\"Circuit:\")\n",
        "print(circuit)\n",
        "\n",
        "simulator = cirq.Simulator()\n",
        "result = simulator.run(circuit, repetitions=10)\n",
        "print(\"Results:\")\n",
        "print(result)\n"
      ],
      "metadata": {
        "id": "1_fjt8rAv8oH",
        "outputId": "149f9e43-52e9-4103-a027-615a48dbf89d",
        "colab": {
          "base_uri": "https://localhost:8080/"
        }
      },
      "execution_count": 8,
      "outputs": [
        {
          "output_type": "stream",
          "name": "stdout",
          "text": [
            "Circuit:\n",
            "                       ┌─────────┐\n",
            "(0, 0): ───X───@────────@─────────────────────────\n",
            "               │        │\n",
            "(0, 1): ───────┼───@────@─────────────────────────\n",
            "               │   │    │\n",
            "(0, 2): ───────X───X────┼M('sum')─────────────────\n",
            "                        │\n",
            "(0, 3): ────────────────X────────────M('carry')───\n",
            "                       └─────────┘\n",
            "Results:\n",
            "carry=0000000000\n",
            "sum=1111111111\n"
          ]
        }
      ]
    },
    {
      "cell_type": "code",
      "source": [
        "import cirq\n",
        "\n",
        "# Qubits for inputs\n",
        "a0, a1 = cirq.GridQubit(0, 0), cirq.GridQubit(0, 1)\n",
        "b0, b1 = cirq.GridQubit(1, 0), cirq.GridQubit(1, 1)\n",
        "\n",
        "# Qubits for sum outputs\n",
        "s0, s1, s2 = cirq.GridQubit(2, 0), cirq.GridQubit(2, 1), cirq.GridQubit(2, 2)  # s2 is carry out\n",
        "\n",
        "# Ancillary qubits for carry bits\n",
        "c1 = cirq.GridQubit(3, 0)  # carry from first bit adder\n",
        "\n",
        "circuit = cirq.Circuit()\n",
        "\n",
        "# Initialize inputs (example A=2 (10), B=1 (01))\n",
        "a = [1, 0]  # a0=1, a1=0 (LSB first)\n",
        "b = [0, 1]  # b0=0, b1=1\n",
        "\n",
        "for i, bit in enumerate(a):\n",
        "    if bit == 1:\n",
        "        circuit.append(cirq.X([a0, a1][i]))\n",
        "\n",
        "for i, bit in enumerate(b):\n",
        "    if bit == 1:\n",
        "        circuit.append(cirq.X([b0, b1][i]))\n",
        "\n",
        "# Define a half adder for least significant bit (bit 0)\n",
        "# sum s0 = a0 XOR b0\n",
        "circuit.append(cirq.CNOT(a0, s0))\n",
        "circuit.append(cirq.CNOT(b0, s0))\n",
        "\n",
        "# carry c1 = a0 AND b0\n",
        "circuit.append(cirq.TOFFOLI(a0, b0, c1))\n",
        "\n",
        "# Full adder for bit 1: sum s1, carry s2\n",
        "# sum s1 = a1 XOR b1 XOR c1\n",
        "# carry s2 = majority(a1, b1, c1)\n",
        "\n",
        "# Step 1: s1 = a1 XOR b1 XOR c1\n",
        "# Use CNOT and Toffoli gates\n",
        "\n",
        "# temp s1\n",
        "circuit.append(cirq.CNOT(a1, s1))\n",
        "circuit.append(cirq.CNOT(b1, s1))\n",
        "circuit.append(cirq.CNOT(c1, s1))\n",
        "\n",
        "# Step 2: carry s2 = majority function (carry out)\n",
        "# carry if at least two inputs are 1\n",
        "\n",
        "# Using Toffoli gates for carry logic\n",
        "circuit.append(cirq.TOFFOLI(a1, b1, s2))\n",
        "circuit.append(cirq.TOFFOLI(a1, c1, s2))\n",
        "circuit.append(cirq.TOFFOLI(b1, c1, s2))\n",
        "\n",
        "# Measure sum and carry outputs\n",
        "circuit.append(cirq.measure(s0, key='sum0'))\n",
        "circuit.append(cirq.measure(s1, key='sum1'))\n",
        "circuit.append(cirq.measure(s2, key='carry_out'))\n",
        "\n",
        "print(\"Circuit:\")\n",
        "print(circuit)\n",
        "\n",
        "# Simulate\n",
        "simulator = cirq.Simulator()\n",
        "result = simulator.run(circuit, repetitions=10)\n",
        "\n",
        "print(\"\\nResults:\")\n",
        "print(result)\n"
      ],
      "metadata": {
        "id": "nv7tKfSSwVjk",
        "outputId": "fdbd07dd-f687-4f84-c542-3bdbc2889b6f",
        "colab": {
          "base_uri": "https://localhost:8080/"
        }
      },
      "execution_count": 10,
      "outputs": [
        {
          "output_type": "stream",
          "name": "stdout",
          "text": [
            "Circuit:\n",
            "           ┌──┐   ┌──┐   ┌──┐   ┌──────────┐       ┌──────────┐\n",
            "(0, 0): ────X──────@─────────────@─────────────────────────────────────────────────────\n",
            "                   │             │\n",
            "(0, 1): ─────@─────┼───────@─────┼──────────────────@──────────────────────────────────\n",
            "             │     │       │     │                  │\n",
            "(1, 0): ─────┼─────┼──────@┼─────@──────────────────┼──────────────────────────────────\n",
            "             │     │      ││     │                  │\n",
            "(1, 1): ────X┼─────┼@─────┼@─────┼──────────────────┼─────────────@────────────────────\n",
            "             │     ││     ││     │                  │             │\n",
            "(2, 0): ─────┼─────X┼─────X┼─────┼M('sum0')─────────┼─────────────┼────────────────────\n",
            "             │      │      │     │                  │             │\n",
            "(2, 1): ─────X──────X──────┼─────┼─────────────X────┼M('sum1')────┼────────────────────\n",
            "                           │     │             │    │             │\n",
            "(2, 2): ───────────────────X─────┼─────────────┼────X─────────────X───M('carry_out')───\n",
            "                                 │             │    │             │\n",
            "(3, 0): ─────────────────────────X─────────────@────@─────────────@────────────────────\n",
            "           └──┘   └──┘   └──┘   └──────────┘       └──────────┘\n",
            "\n",
            "Results:\n",
            "carry_out=0000000000\n",
            "sum0=1111111111\n",
            "sum1=1111111111\n"
          ]
        }
      ]
    },
    {
      "cell_type": "code",
      "source": [
        "import cirq\n",
        "\n",
        "def int_to_bits(n, num_bits):\n",
        "    \"\"\"Convert int to list of bits (LSB first).\"\"\"\n",
        "    return [(n >> i) & 1 for i in range(num_bits)]\n",
        "\n",
        "def bits_to_int(bits):\n",
        "    \"\"\"Convert list of bits (LSB first) to int.\"\"\"\n",
        "    return sum([bit << i for i, bit in enumerate(bits)])\n",
        "\n",
        "def quantum_adder(a, b, num_bits=4):\n",
        "    \"\"\"\n",
        "    Add two integers a and b (up to num_bits bits) using Cirq quantum circuit.\n",
        "    Returns integer sum.\n",
        "    \"\"\"\n",
        "    # Number of qubits needed: for a, b, sum and carry\n",
        "    # We'll build a ripple-carry adder with num_bits bits\n",
        "\n",
        "    # Define qubits for inputs\n",
        "    a_qubits = [cirq.GridQubit(0, i) for i in range(num_bits)]\n",
        "    b_qubits = [cirq.GridQubit(1, i) for i in range(num_bits)]\n",
        "    sum_qubits = [cirq.GridQubit(2, i) for i in range(num_bits)]\n",
        "    carry_qubits = [cirq.GridQubit(3, i) for i in range(num_bits - 1)]  # carry between bits\n",
        "\n",
        "    circuit = cirq.Circuit()\n",
        "\n",
        "    # Initialize a_qubits and b_qubits based on inputs\n",
        "    a_bits = int_to_bits(a, num_bits)\n",
        "    b_bits = int_to_bits(b, num_bits)\n",
        "\n",
        "    for i, bit in enumerate(a_bits):\n",
        "        if bit == 1:\n",
        "            circuit.append(cirq.X(a_qubits[i]))\n",
        "    for i, bit in enumerate(b_bits):\n",
        "        if bit == 1:\n",
        "            circuit.append(cirq.X(b_qubits[i]))\n",
        "\n",
        "    # Ripple-carry adder logic:\n",
        "    # For bit 0, half adder: sum0 = a0 XOR b0, carry0 = a0 AND b0\n",
        "    circuit.append(cirq.CNOT(a_qubits[0], sum_qubits[0]))\n",
        "    circuit.append(cirq.CNOT(b_qubits[0], sum_qubits[0]))\n",
        "    circuit.append(cirq.TOFFOLI(a_qubits[0], b_qubits[0], carry_qubits[0]))\n",
        "\n",
        "    # For bits 1 to n-1, full adder logic:\n",
        "    for i in range(1, num_bits - 1):\n",
        "        # sum_i = a_i XOR b_i XOR carry_{i-1}\n",
        "        circuit.append(cirq.CNOT(a_qubits[i], sum_qubits[i]))\n",
        "        circuit.append(cirq.CNOT(b_qubits[i], sum_qubits[i]))\n",
        "        circuit.append(cirq.CNOT(carry_qubits[i - 1], sum_qubits[i]))\n",
        "\n",
        "        # carry_i = majority(a_i, b_i, carry_{i-1})\n",
        "        circuit.append(cirq.TOFFOLI(a_qubits[i], b_qubits[i], carry_qubits[i]))\n",
        "        circuit.append(cirq.TOFFOLI(a_qubits[i], carry_qubits[i - 1], carry_qubits[i]))\n",
        "        circuit.append(cirq.TOFFOLI(b_qubits[i], carry_qubits[i - 1], carry_qubits[i]))\n",
        "\n",
        "    # For last bit (num_bits - 1), sum and final carry output\n",
        "    last = num_bits - 1\n",
        "    # sum_last = a_last XOR b_last XOR carry_last-1\n",
        "    circuit.append(cirq.CNOT(a_qubits[last], sum_qubits[last]))\n",
        "    circuit.append(cirq.CNOT(b_qubits[last], sum_qubits[last]))\n",
        "    circuit.append(cirq.CNOT(carry_qubits[last - 1], sum_qubits[last]))\n",
        "\n",
        "    # Final carry output qubit (sum_qubits[num_bits] if you want overflow)\n",
        "    # Let's create a carry_out qubit\n",
        "    carry_out = cirq.GridQubit(4, 0)\n",
        "    circuit.append(cirq.TOFFOLI(a_qubits[last], b_qubits[last], carry_out))\n",
        "    circuit.append(cirq.TOFFOLI(a_qubits[last], carry_qubits[last - 1], carry_out))\n",
        "    circuit.append(cirq.TOFFOLI(b_qubits[last], carry_qubits[last - 1], carry_out))\n",
        "\n",
        "    # Measure sum bits and carry out\n",
        "    for i in range(num_bits):\n",
        "        circuit.append(cirq.measure(sum_qubits[i], key=f'sum{i}'))\n",
        "    circuit.append(cirq.measure(carry_out, key='carry_out'))\n",
        "\n",
        "    # Simulate circuit\n",
        "    simulator = cirq.Simulator()\n",
        "    result = simulator.run(circuit, repetitions=1)\n",
        "\n",
        "    # Collect results bits\n",
        "    sum_bits = [result.measurements[f'sum{i}'][0][0] for i in range(num_bits)]\n",
        "    carry_bit = result.measurements['carry_out'][0][0]\n",
        "\n",
        "    # Construct integer result (sum)\n",
        "    total_sum = bits_to_int(sum_bits) + (carry_bit << num_bits)\n",
        "\n",
        "    return total_sum\n",
        "\n",
        "# Example usage:\n",
        "a = 20\n",
        "b = 5\n",
        "result = quantum_adder(a, b, num_bits=4)\n",
        "print(f\"{a} + {b} = {result}\")\n"
      ],
      "metadata": {
        "id": "BbFMb8_-wksS",
        "outputId": "feaf03a9-b268-45ab-b87f-f4d317e5626d",
        "colab": {
          "base_uri": "https://localhost:8080/"
        }
      },
      "execution_count": 24,
      "outputs": [
        {
          "output_type": "stream",
          "name": "stdout",
          "text": [
            "20 + 5 = 9\n"
          ]
        }
      ]
    },
    {
      "cell_type": "markdown",
      "source": [],
      "metadata": {
        "id": "UbqqfusRv8Ls"
      }
    },
    {
      "cell_type": "code",
      "source": [
        "import cirq\n",
        "\n",
        "def int_to_bits(n, num_bits):\n",
        "    \"\"\"Convert int to list of bits (LSB first).\"\"\"\n",
        "    return [(n >> i) & 1 for i in range(num_bits)]\n",
        "\n",
        "def bits_to_int(bits):\n",
        "    \"\"\"Convert list of bits (LSB first) to int.\"\"\"\n",
        "    return sum([bit << i for i, bit in enumerate(bits)])\n",
        "\n",
        "def quantum_adder(a, b, num_bits):\n",
        "    \"\"\"\n",
        "    Quantum ripple-carry adder for two integers a and b with num_bits bits.\n",
        "    Returns integer sum.\n",
        "    \"\"\"\n",
        "    # Validate input size\n",
        "    max_val = 2 ** num_bits - 1\n",
        "    if a > max_val or b > max_val:\n",
        "        raise ValueError(f\"Inputs must fit in {num_bits} bits (max {max_val})\")\n",
        "\n",
        "    # Define qubits\n",
        "    a_qubits = [cirq.GridQubit(0, i) for i in range(num_bits)]\n",
        "    b_qubits = [cirq.GridQubit(1, i) for i in range(num_bits)]\n",
        "    sum_qubits = [cirq.GridQubit(2, i) for i in range(num_bits)]\n",
        "    carry_qubits = [cirq.GridQubit(3, i) for i in range(num_bits - 1)]\n",
        "\n",
        "    circuit = cirq.Circuit()\n",
        "\n",
        "    # Initialize qubits with input bits\n",
        "    a_bits = int_to_bits(a, num_bits)\n",
        "    b_bits = int_to_bits(b, num_bits)\n",
        "\n",
        "    for i, bit in enumerate(a_bits):\n",
        "        if bit == 1:\n",
        "            circuit.append(cirq.X(a_qubits[i]))\n",
        "    for i, bit in enumerate(b_bits):\n",
        "        if bit == 1:\n",
        "            circuit.append(cirq.X(b_qubits[i]))\n",
        "\n",
        "    # Half adder for bit 0\n",
        "    circuit.append(cirq.CNOT(a_qubits[0], sum_qubits[0]))\n",
        "    circuit.append(cirq.CNOT(b_qubits[0], sum_qubits[0]))\n",
        "    circuit.append(cirq.TOFFOLI(a_qubits[0], b_qubits[0], carry_qubits[0]))\n",
        "\n",
        "    # Full adders for bits 1 to num_bits-2\n",
        "    for i in range(1, num_bits - 1):\n",
        "        circuit.append(cirq.CNOT(a_qubits[i], sum_qubits[i]))\n",
        "        circuit.append(cirq.CNOT(b_qubits[i], sum_qubits[i]))\n",
        "        circuit.append(cirq.CNOT(carry_qubits[i - 1], sum_qubits[i]))\n",
        "\n",
        "        circuit.append(cirq.TOFFOLI(a_qubits[i], b_qubits[i], carry_qubits[i]))\n",
        "        circuit.append(cirq.TOFFOLI(a_qubits[i], carry_qubits[i - 1], carry_qubits[i]))\n",
        "        circuit.append(cirq.TOFFOLI(b_qubits[i], carry_qubits[i - 1], carry_qubits[i]))\n",
        "\n",
        "    # Last bit full adder: sum and carry out\n",
        "    last = num_bits - 1\n",
        "    carry_out = cirq.GridQubit(4, 0)\n",
        "\n",
        "    # sum bit for last bit\n",
        "    circuit.append(cirq.CNOT(a_qubits[last], sum_qubits[last]))\n",
        "    circuit.append(cirq.CNOT(b_qubits[last], sum_qubits[last]))\n",
        "    circuit.append(cirq.CNOT(carry_qubits[last - 1], sum_qubits[last]))\n",
        "\n",
        "    # carry out for last bit\n",
        "    circuit.append(cirq.TOFFOLI(a_qubits[last], b_qubits[last], carry_out))\n",
        "    circuit.append(cirq.TOFFOLI(a_qubits[last], carry_qubits[last - 1], carry_out))\n",
        "    circuit.append(cirq.TOFFOLI(b_qubits[last], carry_qubits[last - 1], carry_out))\n",
        "\n",
        "    # Measure sum bits and carry out\n",
        "    for i in range(num_bits):\n",
        "        circuit.append(cirq.measure(sum_qubits[i], key=f'sum{i}'))\n",
        "    circuit.append(cirq.measure(carry_out, key='carry_out'))\n",
        "\n",
        "    # Simulate\n",
        "    simulator = cirq.Simulator()\n",
        "    result = simulator.run(circuit, repetitions=1)\n",
        "\n",
        "    # Extract bits from measurement results\n",
        "    sum_bits = [result.measurements[f'sum{i}'][0][0] for i in range(num_bits)]\n",
        "    carry_bit = result.measurements['carry_out'][0][0]\n",
        "\n",
        "    # Calculate total sum\n",
        "    total_sum = bits_to_int(sum_bits) + (carry_bit << num_bits)\n",
        "\n",
        "    return total_sum\n",
        "\n",
        "# Example usage\n",
        "a = 1\n",
        "b = 5\n",
        "num_bits = max(a.bit_length(), b.bit_length())  # calculate required bits dynamically\n",
        "result = quantum_adder(a, b, num_bits=num_bits)\n",
        "print(f\"{a} + {b} = {result}\")\n"
      ],
      "metadata": {
        "id": "T2yamMisw9lg",
        "outputId": "3c5d7d63-dcec-4286-fe81-289f3c217343",
        "colab": {
          "base_uri": "https://localhost:8080/"
        }
      },
      "execution_count": 27,
      "outputs": [
        {
          "output_type": "stream",
          "name": "stdout",
          "text": [
            "1 + 5 = 6\n"
          ]
        }
      ]
    },
    {
      "cell_type": "markdown",
      "metadata": {
        "id": "shNBShuQTFuu"
      },
      "source": [
        "# Congratulations\n",
        "You've just run your first Cirq program.\n",
        "\n",
        "To learn about running a circuit on a virtual machine that mimics existing quantum hardware, see [Quantum Virtual Machine](../simulate/quantum_virtual_machine.ipynb).\n",
        "\n",
        "If you would like to learn more about quantum computing, check out our [education page](https://quantumai.google/resources). The Full API reference for Cirq can be found [here](/reference/python/cirq). If you are looking for vendor specific information that can be found on our vendor sub-pages:\n",
        "\n",
        "\n",
        "  [Alpine Quantum Technologies](../hardware/aqt/getting_started.ipynb)\n",
        "  \n",
        "  [Pasqal](../hardware/pasqal/getting_started.ipynb)\n",
        "  \n",
        "  [IonQ](../hardware/ionq/getting_started.ipynb)\n",
        "  \n",
        "  [Azure](../hardware/azure-quantum/getting_started_honeywell.ipynb)\n",
        "  \n",
        "  [Rigetti](../hardware/rigetti/getting_started.ipynb) (Note: deprecated since version 1.5)"
      ]
    }
  ],
  "metadata": {
    "colab": {
      "name": "start.ipynb",
      "toc_visible": true,
      "provenance": [],
      "include_colab_link": true
    },
    "kernelspec": {
      "display_name": "Python 3",
      "name": "python3"
    }
  },
  "nbformat": 4,
  "nbformat_minor": 0
}